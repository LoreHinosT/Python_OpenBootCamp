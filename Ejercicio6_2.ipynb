{
 "cells": [
  {
   "cell_type": "markdown",
   "metadata": {},
   "source": [
    "En este ejercicio tendras que crear un programa que tenga una clase llamada alumno que tenga como atributos su nombre y su nota. \n",
    "Debes de definir los metodos para inicializar sus atributos,imprimirlos y mostrar un mensaje con el resultado de la nota y si ha aprobado o no"
   ]
  },
  {
   "cell_type": "code",
   "execution_count": 6,
   "metadata": {},
   "outputs": [],
   "source": [
    "class Alumno:\n",
    "    def __init__(self,nombre,nota):\n",
    "        self.nombre=nombre\n",
    "        self.nota=nota\n",
    "    def mostrar(self):\n",
    "        return f\"{self.nombre} tiene una nota de {self.nota}\"\n",
    "    def aprobado(self):\n",
    "        if self.nota>=7:\n",
    "            return f\"El alumno esta aprobado\"\n",
    "        else:\n",
    "            return f\"El alumno no esta aprobado\"\n"
   ]
  },
  {
   "cell_type": "code",
   "execution_count": 7,
   "metadata": {},
   "outputs": [
    {
     "name": "stdout",
     "output_type": "stream",
     "text": [
      "Lorena tiene una nota de 8\n",
      "El alumno esta aprobado\n"
     ]
    }
   ],
   "source": [
    "Alumno1=Alumno(\"Lorena\",8)\n",
    "print(Alumno1.mostrar())\n",
    "print(Alumno1.aprobado())"
   ]
  }
 ],
 "metadata": {
  "kernelspec": {
   "display_name": "Python 3.10.7 64-bit",
   "language": "python",
   "name": "python3"
  },
  "language_info": {
   "codemirror_mode": {
    "name": "ipython",
    "version": 3
   },
   "file_extension": ".py",
   "mimetype": "text/x-python",
   "name": "python",
   "nbconvert_exporter": "python",
   "pygments_lexer": "ipython3",
   "version": "3.10.7"
  },
  "orig_nbformat": 4,
  "vscode": {
   "interpreter": {
    "hash": "c63d8c7d738c2960218a10995aedf0a7f67a49a231e71037adf0440953cdb45b"
   }
  }
 },
 "nbformat": 4,
 "nbformat_minor": 2
}
