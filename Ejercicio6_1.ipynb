{
 "cells": [
  {
   "cell_type": "markdown",
   "metadata": {},
   "source": [
    "h/En este ejercicio vas a crear la clase Vehiculo la cual tendra los siguientes atributos:/h\n",
    " .Color\n",
    " .Ruedas\n",
    " .Puertas\n",
    "Por otro lado creareis la clase Coche la cual heredara de vehiculo y tendra los siguientes atributos:\n",
    " .Velocidad\n",
    " .Cilindra\n",
    "Por ultimo, tendras que crear un objeto de la clase Coche y mostrarlo"
   ]
  },
  {
   "cell_type": "code",
   "execution_count": 1,
   "metadata": {},
   "outputs": [],
   "source": [
    "class Vehiculo:\n",
    "    def __init__(self,color,ruedas,puertas):\n",
    "        self.color=color\n",
    "        self.ruedas=ruedas\n",
    "        self.puertas=puertas\n",
    "\n",
    "class Coche(Vehiculo):\n",
    "    def __init__(self, color, ruedas, puertas,velocidad,cilindrada):\n",
    "        super().__init__(color, ruedas, puertas)\n",
    "        self.velocidad=velocidad\n",
    "        self.cilindrada=cilindrada\n",
    "    "
   ]
  },
  {
   "cell_type": "code",
   "execution_count": 7,
   "metadata": {},
   "outputs": [
    {
     "name": "stdout",
     "output_type": "stream",
     "text": [
      "Es un vehiculo:rojo,4,2\n"
     ]
    }
   ],
   "source": [
    "Fiat600=Coche(\"rojo\",4,2,500,8)\n",
    "print(f\"Es un vehiculo:{Fiat600.color},{Fiat600.ruedas},{Fiat600.puertas}\")"
   ]
  }
 ],
 "metadata": {
  "kernelspec": {
   "display_name": "Python 3.10.7 64-bit",
   "language": "python",
   "name": "python3"
  },
  "language_info": {
   "codemirror_mode": {
    "name": "ipython",
    "version": 3
   },
   "file_extension": ".py",
   "mimetype": "text/x-python",
   "name": "python",
   "nbconvert_exporter": "python",
   "pygments_lexer": "ipython3",
   "version": "3.10.7"
  },
  "orig_nbformat": 4,
  "vscode": {
   "interpreter": {
    "hash": "c63d8c7d738c2960218a10995aedf0a7f67a49a231e71037adf0440953cdb45b"
   }
  }
 },
 "nbformat": 4,
 "nbformat_minor": 2
}
