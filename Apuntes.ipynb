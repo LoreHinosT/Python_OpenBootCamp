{
 "cells": [
  {
   "cell_type": "code",
   "execution_count": 4,
   "metadata": {},
   "outputs": [
    {
     "name": "stdout",
     "output_type": "stream",
     "text": [
      "El valor es 4\n"
     ]
    }
   ],
   "source": [
    "valor=4\n",
    "if valor==1:\n",
    "    print(\"El valor es 1\")\n",
    "elif valor==2:\n",
    "    print(\"El valor es 2\")\n",
    "elif valor==4:\n",
    "    print(\"El valor es 4\")\n"
   ]
  },
  {
   "cell_type": "code",
   "execution_count": 5,
   "metadata": {},
   "outputs": [
    {
     "name": "stdout",
     "output_type": "stream",
     "text": [
      "El valor es 4\n"
     ]
    }
   ],
   "source": [
    "valor=4\n",
    "match valor:\n",
    "    case 1:\n",
    "        print(\"El valor es 1\")\n",
    "    case 2:\n",
    "        print(\"El valor es 2\")\n",
    "    case 3:\n",
    "        print(\"El valor es 3\")\n",
    "    case 4:\n",
    "        print(\"El valor es 4\")\n",
    "\n"
   ]
  },
  {
   "cell_type": "code",
   "execution_count": 9,
   "metadata": {},
   "outputs": [
    {
     "name": "stdout",
     "output_type": "stream",
     "text": [
      "Hola,Jpgue\n"
     ]
    }
   ],
   "source": [
    "def mifuncion(nombre):\n",
    "    print(f\"Hola,{nombre}\")\n",
    "\n",
    "mifuncion(\"Jpgue\")"
   ]
  },
  {
   "cell_type": "code",
   "execution_count": 17,
   "metadata": {},
   "outputs": [
    {
     "name": "stdout",
     "output_type": "stream",
     "text": [
      "14\n",
      "-2\n",
      "0.75\n"
     ]
    }
   ],
   "source": [
    "def operaciones(a,b):\n",
    "    return a+b,a-b,a*b,a/b\n",
    "suma,resta,multi,divi=operaciones(6,8)\n",
    "print(suma)\n",
    "print(resta)\n",
    "print(divi)"
   ]
  },
  {
   "cell_type": "code",
   "execution_count": 15,
   "metadata": {},
   "outputs": [
    {
     "name": "stdout",
     "output_type": "stream",
     "text": [
      "Hola,lore\n"
     ]
    }
   ],
   "source": [
    "def mifuncion2(nombre):\n",
    "    return f\"Hola,{nombre}\"\n",
    "resultado=mifuncion2(\"lore\")\n",
    "print(resultado)"
   ]
  },
  {
   "cell_type": "code",
   "execution_count": 11,
   "metadata": {},
   "outputs": [
    {
     "name": "stdout",
     "output_type": "stream",
     "text": [
      "18\n"
     ]
    }
   ],
   "source": [
    "##lista\n",
    "def suma (*args):\n",
    "    resultado=0\n",
    "\n",
    "    for arg in args:\n",
    "        resultado +=arg\n",
    "    \n",
    "    print(resultado)\n",
    "suma(9,9)"
   ]
  },
  {
   "cell_type": "code",
   "execution_count": 12,
   "metadata": {},
   "outputs": [
    {
     "name": "stdout",
     "output_type": "stream",
     "text": [
      "{'vivienda': 'casa', 'coche': 'rojo'}\n"
     ]
    }
   ],
   "source": [
    "#DIccionarios\n",
    "\n",
    "def suma (**kwargs):\n",
    "    print(kwargs)\n",
    "\n",
    "suma(vivienda=\"casa\",coche=\"rojo\")"
   ]
  },
  {
   "cell_type": "code",
   "execution_count": 13,
   "metadata": {},
   "outputs": [
    {
     "name": "stdout",
     "output_type": "stream",
     "text": [
      "vivienda= casa\n",
      "coche= rojo\n"
     ]
    }
   ],
   "source": [
    "#diccionarios\n",
    "\n",
    "def suma (**kwargs):\n",
    "    for key,value in kwargs.items():\n",
    "\n",
    "        print(f\"{key}= {value}\")\n",
    "\n",
    "suma(vivienda=\"casa\",coche=\"rojo\")\n",
    "\n"
   ]
  },
  {
   "cell_type": "code",
   "execution_count": null,
   "metadata": {},
   "outputs": [],
   "source": [
    "#ficheros\n",
    "\n",
    "def escribe(fichero,datos):\n",
    "    f=open(fichero,\"w\") #LA W ES PARA INDICAR QUE VOY A ESCRIBIR#\n",
    "    for linea in datos:\n",
    "        if not linea.endswith(\"\\n\"):\n",
    "            linea=linea+\"\\n\"\n",
    "        f.write(linea)\n",
    "    f.close(linea)\n",
    "lista=[\n",
    "    \"una linea\",\n",
    "    \"dos lineas\",\n",
    "    \"tres lineas\",\n",
    "]"
   ]
  },
  {
   "cell_type": "code",
   "execution_count": null,
   "metadata": {},
   "outputs": [],
   "source": [
    "\n",
    "#MULTIHILOS\n",
    "import _thread\n",
    "import time\n",
    "\n",
    "def horaActual(nombre_thread,tiempo_de_espera):\n",
    "    count=0\n",
    "    \n",
    "    while count<5:\n",
    "        time.sleep(tiempo_de_espera)\n",
    "        count +=1\n",
    "        print(f\"hilo:{nombre_thread}-{time.ctime(time.time())}\")\n",
    "\n",
    "_thread.start_new_thread(horaActual,(\"thread 1\",1))\n",
    "_thread.start_new_thread(horaActual,(\"thread 2\",2))\n",
    "\n",
    "while True:\n",
    "    pass\n"
   ]
  },
  {
   "cell_type": "code",
   "execution_count": null,
   "metadata": {},
   "outputs": [],
   "source": [
    "import logging #FICHEROS DE REGISTROS \n",
    "\n",
    "logging.basicConfig(level=logging.INFO) #Si pongo INFO ME VA A MOSTRAR DESDE INFO PARA ADELANTE,\n",
    "# TAMBIEN PUEDO REEMPLAZARLO POR ERROR CRITICAL ETC\n",
    "logging.info(\"Arrancando programa\")\n",
    "logging.warning(\"Hace calor\")\n",
    "logging.error(\"test\")\n",
    "logging.critical(\"adios\")\n"
   ]
  },
  {
   "cell_type": "code",
   "execution_count": null,
   "metadata": {},
   "outputs": [],
   "source": [
    "\n",
    "numeros=[1,2,3,4,5,6,7,8,9,10]\n",
    "\n",
    "def mifuncion(x):\n",
    "    if x %2 ==0:\n",
    "        return True\n",
    "    return False\n",
    "\n",
    "resultado=filter(mifuncion, numeros) #resultado sera igual a los numeros que cumplan la condicion de mi funcion\n",
    "print(list(resultado))"
   ]
  },
  {
   "cell_type": "code",
   "execution_count": null,
   "metadata": {},
   "outputs": [],
   "source": [
    "def cuadrado(x):\n",
    "    return x*x\n",
    "\n",
    "resultado=map(cuadrado,[1,2,3,4,5,6,7,8,9]) #Aplica la funcion en cada elemento de mi lista\n",
    "print(list(resultado))"
   ]
  },
  {
   "cell_type": "code",
   "execution_count": null,
   "metadata": {},
   "outputs": [],
   "source": [
    "from functools import reduce\n",
    "def suma(a,b):\n",
    "    print(f\"a={a},b={b}\")\n",
    "    return a+b\n",
    "\n",
    "res=reduce(suma,[1,2,3,4,5,6])\n",
    "print(res)\n",
    "########################### pantalla\n",
    "a=1,b=2\n",
    "a=3,b=3\n",
    "a=6,b=4\n",
    "a=10,b=5\n",
    "a=15,b=6\n",
    "21"
   ]
  },
  {
   "cell_type": "code",
   "execution_count": null,
   "metadata": {},
   "outputs": [],
   "source": [
    "listaA=[1==2,2==2,3==3]\n",
    "res=any(listaA) # ANY EXIJE QUE SE CUMPLA CUALQUIERA\n",
    "#SI CAMBIO POR \"ALL\" EXIJE QUE SE CUMPLA #TODO\n",
    "print(res)"
   ]
  },
  {
   "cell_type": "code",
   "execution_count": null,
   "metadata": {},
   "outputs": [],
   "source": [
    "#REDONDEO\n",
    "\n",
    "a=5.5\n",
    "b=5.4\n",
    "c=5.6\n",
    "\n",
    "print(round(a),round(b),round(c))\n",
    "\n",
    "print(min(2,3,5,5,6)) #MIN cual es el minimo\n",
    "\n",
    "\n",
    "print(pow(2,3)) #dos a la cuatro, potenciacion\n",
    "\n",
    "lista=[1,2,4,6,7,5]\n",
    "ordenada=sorted(lista,reverse=True) #ordenada inversa\n",
    "print(ordenada)\n"
   ]
  },
  {
   "cell_type": "code",
   "execution_count": null,
   "metadata": {},
   "outputs": [],
   "source": [
    "from getpass import getpass\n",
    "\n",
    "user=input(\"Ingrese usuario\")\n",
    "passwd=getpass(\"Ingrese contraseña\") #para que no se vea en la pantalla\n",
    "print(user,passwd)"
   ]
  },
  {
   "cell_type": "code",
   "execution_count": 3,
   "metadata": {},
   "outputs": [
    {
     "name": "stdout",
     "output_type": "stream",
     "text": [
      "{1, 2, 3, 4, 5, 6, 77}\n",
      "{'r', 'b', 'd', 'c', 'a'}\n"
     ]
    }
   ],
   "source": [
    "#SETS: SON COLECCIONES DESORDENADAS DE OBJETOS UNICOS\n",
    "\n",
    "numeros={1,2,3,3,3,4,5,6,77}\n",
    "print(numeros)\n",
    "\n",
    "a=set(\"abracadabra\") #mutables, se pueden añadir nuevos elementos\n",
    "print(a)\n",
    "a.add(\"g\")\n",
    "print(a)\n",
    "\n"
   ]
  }
 ],
 "metadata": {
  "kernelspec": {
   "display_name": "Python 3.10.7 64-bit",
   "language": "python",
   "name": "python3"
  },
  "language_info": {
   "codemirror_mode": {
    "name": "ipython",
    "version": 3
   },
   "file_extension": ".py",
   "mimetype": "text/x-python",
   "name": "python",
   "nbconvert_exporter": "python",
   "pygments_lexer": "ipython3",
   "version": "3.10.7"
  },
  "orig_nbformat": 4,
  "vscode": {
   "interpreter": {
    "hash": "c63d8c7d738c2960218a10995aedf0a7f67a49a231e71037adf0440953cdb45b"
   }
  }
 },
 "nbformat": 4,
 "nbformat_minor": 2
}
