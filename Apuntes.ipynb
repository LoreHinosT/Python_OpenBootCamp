{
 "cells": [
  {
   "cell_type": "code",
   "execution_count": 4,
   "metadata": {},
   "outputs": [
    {
     "name": "stdout",
     "output_type": "stream",
     "text": [
      "El valor es 4\n"
     ]
    }
   ],
   "source": [
    "valor=4\n",
    "if valor==1:\n",
    "    print(\"El valor es 1\")\n",
    "elif valor==2:\n",
    "    print(\"El valor es 2\")\n",
    "elif valor==4:\n",
    "    print(\"El valor es 4\")\n"
   ]
  },
  {
   "cell_type": "code",
   "execution_count": 5,
   "metadata": {},
   "outputs": [
    {
     "name": "stdout",
     "output_type": "stream",
     "text": [
      "El valor es 4\n"
     ]
    }
   ],
   "source": [
    "valor=4\n",
    "match valor:\n",
    "    case 1:\n",
    "        print(\"El valor es 1\")\n",
    "    case 2:\n",
    "        print(\"El valor es 2\")\n",
    "    case 3:\n",
    "        print(\"El valor es 3\")\n",
    "    case 4:\n",
    "        print(\"El valor es 4\")\n",
    "\n"
   ]
  },
  {
   "cell_type": "code",
   "execution_count": 9,
   "metadata": {},
   "outputs": [
    {
     "name": "stdout",
     "output_type": "stream",
     "text": [
      "Hola,Jpgue\n"
     ]
    }
   ],
   "source": [
    "def mifuncion(nombre):\n",
    "    print(f\"Hola,{nombre}\")\n",
    "\n",
    "mifuncion(\"Jpgue\")"
   ]
  },
  {
   "cell_type": "code",
   "execution_count": 17,
   "metadata": {},
   "outputs": [
    {
     "name": "stdout",
     "output_type": "stream",
     "text": [
      "14\n",
      "-2\n",
      "0.75\n"
     ]
    }
   ],
   "source": [
    "def operaciones(a,b):\n",
    "    return a+b,a-b,a*b,a/b\n",
    "suma,resta,multi,divi=operaciones(6,8)\n",
    "print(suma)\n",
    "print(resta)\n",
    "print(divi)"
   ]
  },
  {
   "cell_type": "code",
   "execution_count": 15,
   "metadata": {},
   "outputs": [
    {
     "name": "stdout",
     "output_type": "stream",
     "text": [
      "Hola,lore\n"
     ]
    }
   ],
   "source": [
    "def mifuncion2(nombre):\n",
    "    return f\"Hola,{nombre}\"\n",
    "resultado=mifuncion2(\"lore\")\n",
    "print(resultado)"
   ]
  },
  {
   "cell_type": "code",
   "execution_count": 11,
   "metadata": {},
   "outputs": [
    {
     "name": "stdout",
     "output_type": "stream",
     "text": [
      "18\n"
     ]
    }
   ],
   "source": [
    "##lista\n",
    "def suma (*args):\n",
    "    resultado=0\n",
    "\n",
    "    for arg in args:\n",
    "        resultado +=arg\n",
    "    \n",
    "    print(resultado)\n",
    "suma(9,9)"
   ]
  },
  {
   "cell_type": "code",
   "execution_count": 12,
   "metadata": {},
   "outputs": [
    {
     "name": "stdout",
     "output_type": "stream",
     "text": [
      "{'vivienda': 'casa', 'coche': 'rojo'}\n"
     ]
    }
   ],
   "source": [
    "#DIccionarios\n",
    "\n",
    "def suma (**kwargs):\n",
    "    print(kwargs)\n",
    "\n",
    "suma(vivienda=\"casa\",coche=\"rojo\")"
   ]
  },
  {
   "cell_type": "code",
   "execution_count": 13,
   "metadata": {},
   "outputs": [
    {
     "name": "stdout",
     "output_type": "stream",
     "text": [
      "vivienda= casa\n",
      "coche= rojo\n"
     ]
    }
   ],
   "source": [
    "#diccionarios\n",
    "\n",
    "def suma (**kwargs):\n",
    "    for key,value in kwargs.items():\n",
    "\n",
    "        print(f\"{key}= {value}\")\n",
    "\n",
    "suma(vivienda=\"casa\",coche=\"rojo\")\n",
    "\n"
   ]
  },
  {
   "cell_type": "code",
   "execution_count": null,
   "metadata": {},
   "outputs": [],
   "source": [
    "#ficheros\n",
    "\n",
    "def escribe(fichero,datos):\n",
    "    f=open(fichero,\"w\") #LA W ES PARA INDICAR QUE VOY A ESCRIBIR#\n",
    "    for linea in datos:\n",
    "        if not linea.endswith(\"\\n\"):\n",
    "            linea=linea+\"\\n\"\n",
    "        f.write(linea)\n",
    "    f.close(linea)\n",
    "lista=[\n",
    "    \"una linea\",\n",
    "    \"dos lineas\",\n",
    "    \"tres lineas\",\n",
    "]"
   ]
  },
  {
   "cell_type": "code",
   "execution_count": null,
   "metadata": {},
   "outputs": [],
   "source": [
    "\n",
    "#MULTIHILOS\n",
    "import _thread\n",
    "import time\n",
    "\n",
    "def horaActual(nombre_thread,tiempo_de_espera):\n",
    "    count=0\n",
    "    \n",
    "    while count<5:\n",
    "        time.sleep(tiempo_de_espera)\n",
    "        count +=1\n",
    "        print(f\"hilo:{nombre_thread}-{time.ctime(time.time())}\")\n",
    "\n",
    "_thread.start_new_thread(horaActual,(\"thread 1\",1))\n",
    "_thread.start_new_thread(horaActual,(\"thread 2\",2))\n",
    "\n",
    "while True:\n",
    "    pass\n"
   ]
  },
  {
   "cell_type": "code",
   "execution_count": null,
   "metadata": {},
   "outputs": [],
   "source": [
    "import logging #FICHEROS DE REGISTROS \n",
    "\n",
    "logging.basicConfig(level=logging.INFO) #Si pongo INFO ME VA A MOSTRAR DESDE INFO PARA ADELANTE,\n",
    "# TAMBIEN PUEDO REEMPLAZARLO POR ERROR CRITICAL ETC\n",
    "logging.info(\"Arrancando programa\")\n",
    "logging.warning(\"Hace calor\")\n",
    "logging.error(\"test\")\n",
    "logging.critical(\"adios\")\n"
   ]
  },
  {
   "cell_type": "code",
   "execution_count": null,
   "metadata": {},
   "outputs": [],
   "source": [
    "\n",
    "numeros=[1,2,3,4,5,6,7,8,9,10]\n",
    "\n",
    "def mifuncion(x):\n",
    "    if x %2 ==0:\n",
    "        return True\n",
    "    return False\n",
    "\n",
    "resultado=filter(mifuncion, numeros) #resultado sera igual a los numeros que cumplan la condicion de mi funcion\n",
    "print(list(resultado))"
   ]
  },
  {
   "cell_type": "code",
   "execution_count": null,
   "metadata": {},
   "outputs": [],
   "source": [
    "def cuadrado(x):\n",
    "    return x*x\n",
    "\n",
    "resultado=map(cuadrado,[1,2,3,4,5,6,7,8,9]) #Aplica la funcion en cada elemento de mi lista\n",
    "print(list(resultado))"
   ]
  },
  {
   "cell_type": "code",
   "execution_count": null,
   "metadata": {},
   "outputs": [],
   "source": [
    "from functools import reduce\n",
    "def suma(a,b):\n",
    "    print(f\"a={a},b={b}\")\n",
    "    return a+b\n",
    "\n",
    "res=reduce(suma,[1,2,3,4,5,6])\n",
    "print(res)\n",
    "########################### pantalla\n",
    "a=1,b=2\n",
    "a=3,b=3\n",
    "a=6,b=4\n",
    "a=10,b=5\n",
    "a=15,b=6\n",
    "21"
   ]
  },
  {
   "cell_type": "code",
   "execution_count": null,
   "metadata": {},
   "outputs": [],
   "source": [
    "listaA=[1==2,2==2,3==3]\n",
    "res=any(listaA) # ANY EXIJE QUE SE CUMPLA CUALQUIERA\n",
    "#SI CAMBIO POR \"ALL\" EXIJE QUE SE CUMPLA #TODO\n",
    "print(res)"
   ]
  },
  {
   "cell_type": "code",
   "execution_count": null,
   "metadata": {},
   "outputs": [],
   "source": [
    "#REDONDEO\n",
    "\n",
    "a=5.5\n",
    "b=5.4\n",
    "c=5.6\n",
    "\n",
    "print(round(a),round(b),round(c))\n",
    "\n",
    "print(min(2,3,5,5,6)) #MIN cual es el minimo\n",
    "\n",
    "\n",
    "print(pow(2,3)) #dos a la cuatro, potenciacion\n",
    "\n",
    "lista=[1,2,4,6,7,5]\n",
    "ordenada=sorted(lista,reverse=True) #ordenada inversa\n",
    "print(ordenada)\n"
   ]
  },
  {
   "cell_type": "code",
   "execution_count": null,
   "metadata": {},
   "outputs": [],
   "source": [
    "from getpass import getpass\n",
    "\n",
    "user=input(\"Ingrese usuario\")\n",
    "passwd=getpass(\"Ingrese contraseña\") #para que no se vea en la pantalla\n",
    "print(user,passwd)"
   ]
  },
  {
   "cell_type": "code",
   "execution_count": 17,
   "metadata": {},
   "outputs": [
    {
     "name": "stdout",
     "output_type": "stream",
     "text": [
      "{17, 54}\n",
      "set()\n",
      "{'g4'}\n"
     ]
    }
   ],
   "source": [
    "#SETS: SON COLECCIONES DESORDENADAS DE OBJETOS UNICOS\n",
    "\n",
    "numeros={17,17}\n",
    "numeros.add(54)\n",
    "print(numeros)\n",
    "#sets de TIPO 1 MUTABLES\n",
    "a=set() #mutables, se pueden añadir nuevos elementos\n",
    "print(a)\n",
    "letra=\"g4\"\n",
    "a.add(letra)\n",
    "print(a)\n",
    "#TIPO 2 INMUTABLES  \n",
    "#b=frozenset(\"perro\")\n",
    "#print(b)\n",
    "#b.add(\"k\") #NO SE PUEDE\n",
    "\n",
    "#paises=set(1,2,3,4,5,5)\n",
    "#print(paises)\n",
    "\n"
   ]
  },
  {
   "cell_type": "markdown",
   "metadata": {},
   "source": [
    "TCL es un lenguaje de programacion (tk esta escrito en tcl)"
   ]
  },
  {
   "cell_type": "code",
   "execution_count": null,
   "metadata": {},
   "outputs": [],
   "source": [
    "import tkinter\n",
    "#SIDE pegar a un lado\n",
    "#EXPAND que se quede en el medio\n",
    "#FILL para rellenar a x o y o both\n",
    "\n",
    "window=tkinter.Tk()\n",
    "\n",
    "label1=tkinter.Label(window, text=\"Label1\",bg=\"yellow\",fg=\"blue\")\n",
    "label1.pack(ipadx=50,ipady=15,fill=\"x\")\n",
    "\n",
    "label2=tkinter.Label(window,text=\"Label2\",bg=\"red\",fg=\"white\")\n",
    "label2.pack(ipadx=50,ipady=15,fill=\"x\")\n",
    "\n",
    "label3=tkinter.Label(window, text=\"Label3\",bg=\"blue\",fg=\"white\")\n",
    "label3.pack(ipadx=50,ipady=15,side=\"left\")\n",
    "\n",
    "label4=tkinter.Label(window,text=\"Label4\",bg=\"green\",fg=\"white\")\n",
    "label4.pack(ipadx=50,ipady=15,side=\"right\")\n",
    "\n",
    "window.mainloop()  "
   ]
  },
  {
   "cell_type": "code",
   "execution_count": null,
   "metadata": {},
   "outputs": [],
   "source": [
    "import tkinter\n",
    "from tkinter import ttk\n",
    "\n",
    "#STICKY para que se pegue\n",
    "#W es west (oeste en ingles)\n",
    "window=tkinter.Tk()\n",
    "\n",
    "#(0,0)  (1,0)   (2,0)\n",
    "#LABEL  #ENTRY\n",
    "#(0,1)  (1,1)    (2,1)\n",
    "#label  #entry  #BUTTON\n",
    "\n",
    "window.columnconfigure(0,weight=1)\n",
    "window.columnconfigure(1,weight=3)\n",
    "#ETIQUETA USUARIO\n",
    "username_label=ttk.Label(window,text=\"Username:\")\n",
    "username_label.grid(column=0,row=0,sticky=tkinter.W,padx=5,pady=5)\n",
    "#CAMPO USUARIO\n",
    "username_entry=ttk.Entry(window)\n",
    "username_entry.grid(column=1,row=0,sticky=tkinter.E,padx=5,pady=5)\n",
    "\n",
    "#ETIQUETA CONTRASEÑA\n",
    "password_label=ttk.Label(window,text=\"Password:\")\n",
    "password_label.grid(column=0,row=1,sticky=tkinter.W,padx=5,pady=5)\n",
    "#CAMPO CONTRASEÑA\n",
    "password_entry=ttk.Entry(window,show=\"*\")\n",
    "password_entry.grid(column=1,row=1,sticky=tkinter.E,padx=5,pady=5)\n",
    "\n",
    "\n",
    "#BOTON\n",
    "login_button=ttk.Button(window,text=\"Login\")\n",
    "login_button.grid(column=1,row=3,sticky=tkinter.E,padx=5,pady=5)\n",
    "\n",
    "\n",
    "\n",
    "\n",
    "window.mainloop()  "
   ]
  },
  {
   "cell_type": "code",
   "execution_count": null,
   "metadata": {},
   "outputs": [],
   "source": [
    "import tkinter \n",
    "from tkinter import ttk\n",
    "import random\n",
    "\n",
    "window=tkinter.Tk()\n",
    "\n",
    "colors=[\"blue\",\"yellow\",\"black\",\"green\"]\n",
    "\n",
    "for x in range(0,10):\n",
    "    color=random.randint(0,len(colors)-1)\n",
    "    color2=random.randint(0,len(colors)-1)\n",
    "    ancho=random.randint(0,50)\n",
    "    alto=random.randint(0,100)\n",
    "    label=tkinter.Label(window,text=\"etiqueta1\",bg=colors[color],fg=colors[color2])\n",
    "    label.place(x=random.randint(0,100),y=random.randint(0,100))\n",
    "\n",
    "\n",
    "\n",
    "window.mainloop()"
   ]
  },
  {
   "cell_type": "code",
   "execution_count": null,
   "metadata": {},
   "outputs": [],
   "source": [
    "import sys\n",
    "import tkinter\n",
    "from tkinter import ttk\n",
    "\n",
    "#STICKY para que se pegue\n",
    "#W es west (oeste en ingles)\n",
    "window=tkinter.Tk()\n",
    "\n",
    "#lista de opciones\n",
    "window.columnconfigure(0,weight=1)\n",
    "window.columnconfigure(0,weight=3)\n",
    "#\n",
    "lista=[\"Windows\",\"macOS\",\"linux\",\"MS DOS\",\"AmigaOS\",\"BeOS\",\"0S/2\"]\n",
    "lista_items=tkinter.StringVar(value=lista)#lo convierto para que listvariable lo lea\n",
    "listbox=tkinter.Listbox(window,height=100,listvariable=lista_items)\n",
    "listbox.grid(column=0,row=0,sticky=tkinter.W)\n",
    "\n",
    "\n",
    "\n",
    "window.mainloop()"
   ]
  },
  {
   "cell_type": "code",
   "execution_count": null,
   "metadata": {},
   "outputs": [],
   "source": [
    "import sys\n",
    "import tkinter\n",
    "from tkinter import ttk\n",
    "\n",
    "#STICKY para que se pegue\n",
    "#W es west (oeste en ingles)\n",
    "window=tkinter.Tk()\n",
    "\n",
    "window.columnconfigure(0,weight=1)\n",
    "window.columnconfigure(0,weight=3)\n",
    "seleccionado=tkinter.StringVar()\n",
    "r1=ttk.Radiobutton(window,text=\"Si\",value=\"1\",variable=seleccionado)\n",
    "r2=ttk.Radiobutton(window,text=\"No\",value=\"2\",variable=seleccionado)\n",
    "r3=ttk.Radiobutton(window,text=\"quizas\",value=\"3\",variable=seleccionado)\n",
    "\n",
    "r1.grid(column=0,row=1,pady=5,padx=5)\n",
    "r2.grid(column=0,row=2,pady=5,padx=5)\n",
    "r3.grid(column=0,row=3,pady=5,padx=5)\n",
    "\n",
    "\n",
    "seleccionado2=tkinter.StringVar()\n",
    "r11=ttk.Radiobutton(window,text=\"Si1\",value=\"11\",variable=seleccionado2)\n",
    "r22=ttk.Radiobutton(window,text=\"No1\",value=\"22\",variable=seleccionado2)\n",
    "r33=ttk.Radiobutton(window,text=\"quizas1\",value=\"33\",variable=seleccionado2)\n",
    "\n",
    "r11.grid(column=1,row=1,pady=5,padx=5)\n",
    "r22.grid(column=1,row=2,pady=5,padx=5)\n",
    "r33.grid(column=1,row=3,pady=5,padx=5)\n",
    "\n",
    "\n",
    "\n",
    "\n",
    "window.mainloop()"
   ]
  },
  {
   "cell_type": "code",
   "execution_count": null,
   "metadata": {},
   "outputs": [],
   "source": [
    "import sys\n",
    "import tkinter\n",
    "from tkinter import ttk\n",
    "\n",
    "#CHECKBOX\n",
    "window=tkinter.Tk()\n",
    "\n",
    "def mifuncion():\n",
    "    print(\"Clickado\")\n",
    "\n",
    "window.columnconfigure(0,weight=1)\n",
    "window.columnconfigure(0,weight=3)\n",
    "\n",
    "seleccionado=tkinter.StringVar()\n",
    "checkbox=tkinter.Checkbutton(window,text=\"acepto las condiciones\",variable=seleccionado,command=mifuncion)\n",
    "checkbox.grid(row=0, column=0)\n",
    "\n",
    "\n",
    "\n",
    "window.mainloop()"
   ]
  },
  {
   "cell_type": "code",
   "execution_count": null,
   "metadata": {},
   "outputs": [],
   "source": [
    "import sys\n",
    "import tkinter\n",
    "from tkinter import ttk\n",
    "\n",
    "#CHECKBOX\n",
    "window=tkinter.Tk()\n",
    "def salir(event):\n",
    "    print(\"Adios\")\n",
    "    window.quit\n",
    "\n",
    "def saludar(event):\n",
    "    print(\"Han hecho click en saludar\")\n",
    "\n",
    "def saludarDobleClick(event):\n",
    "    print(\"Han hecho doble click en saludar\")\n",
    "\n",
    "boton=tkinter.Button(window,text=\"Hax click\")\n",
    "boton.pack()\n",
    "boton.bind(\"<Button-1>\",saludar)\n",
    "boton.bind(\"<Double-1>\",saludarDobleClick)\n",
    "\n",
    "\n",
    "botonSalida=tkinter.Button(window,text=\"Salida\")\n",
    "botonSalida.pack()\n",
    "botonSalida.bind(\"<Button-1>\",salir)\n",
    "\n",
    "window.mainloop()"
   ]
  },
  {
   "cell_type": "code",
   "execution_count": 11,
   "metadata": {},
   "outputs": [],
   "source": [
    "import sqlite3 as sql\n",
    "\n",
    "\n",
    "def createDB():\n",
    "    conn=sql.connect(\"Streamers.db\")\n",
    "    conn.commit()\n",
    "    conn.close()\n",
    "\n",
    "def createTable():\n",
    "    conn=sql.connect(\"streamers.db\")\n",
    "    cursor=conn.cursor()\n",
    "    cursor.execute(\n",
    "        \"\"\"CREATE TABLE streamers(\n",
    "            name text,\n",
    "            followers integer,\n",
    "            subs integer\n",
    "        )\n",
    "        \"\"\"\n",
    "    )\n",
    "\n",
    "    conn.commit()\n",
    "    conn.close()\n",
    "\n",
    "def insertRow(nombre,followers,subs):\n",
    "    conn=sql.connect(\"streamers.db\")\n",
    "    cursor=conn.cursor()\n",
    "    instruccion= f\"INSERT INTO streamers VALUES('{nombre}',{followers},{subs})\"\n",
    "    cursor.execute(instruccion)\n",
    "    conn.commit()\n",
    "    conn.close()\n",
    "\n",
    "def readRows():\n",
    "    conn=sql.connect(\"streamers.db\")\n",
    "    cursor=conn.cursor()\n",
    "    instruccion= f\"SELECT * FROM streamers\"\n",
    "    cursor.execute(instruccion)\n",
    "    datos=cursor.fetchall()\n",
    "    conn.commit()\n",
    "    conn.close()\n",
    "    print(datos)\n",
    "\n",
    "def insertRows(streamersList):\n",
    "    conn=sql.connect(\"streamers.db\")\n",
    "    cursor=conn.cursor()\n",
    "    instruccion= f\"INSERT INTO streamers VALUES(?,?,?)\"\n",
    "    cursor.executemany(instruccion,streamersList)\n",
    "    conn.commit()\n",
    "    conn.close()\n",
    "\n",
    "def readRows(field):\n",
    "    conn=sql.connect(\"streamers.db\")\n",
    "    cursor=conn.cursor()\n",
    "    instruccion= f\"SELECT * FROM streamers ORDER BY {field}\"\n",
    "    cursor.execute(instruccion)\n",
    "    datos=cursor.fetchall()\n",
    "    conn.commit()\n",
    "    conn.close()\n",
    "    print(datos)\n",
    "\n",
    "def search():\n",
    "    conn=sql.connect(\"streamers.db\")\n",
    "    cursor=conn.cursor()\n",
    "    instruccion= f\"SELECT * FROM streamers WHERE name like'Cristini'\"\n",
    "    #instruccion=f\"SELECT * FROM streamers WHERE subs <1000 ORDER BY subs DESC'\"\n",
    "    cursor.execute(instruccion)\n",
    "    datos=cursor.fetchall()\n",
    "    conn.commit()\n",
    "    conn.close()\n",
    "    print(datos)\n",
    "\n",
    "def UpdateFields():\n",
    "    conn=sql.connect(\"streamers.db\")\n",
    "    cursor=conn.cursor()\n",
    "    instruccion= f\"UPDATE streamers SET followers=1200000 WHERE name like 'Cristini'\"\n",
    "    cursor.execute(instruccion)\n",
    "    \n",
    "    conn.commit()\n",
    "    conn.close()\n",
    "\n",
    "def deleteRow():\n",
    "    conn=sql.connect(\"streamers.db\")\n",
    "    cursor=conn.cursor()\n",
    "    instruccion= f\"DELETE FROM streamers WHERE name='Cristini'\"\n",
    "    cursor.execute(instruccion)\n",
    "    \n",
    "    conn.commit()\n",
    "    conn.close()\n",
    "\n",
    "if __name__==\"__main__\": \n",
    "    #createDB()\n",
    "    #createTable()\n",
    "    #insertRow(\"IBAI\",5555,84)\n",
    "    #insertRow(\"Rubius\",846,85555)\n",
    "    #readRows()\n",
    "    streamers=[\n",
    "        (\"ElXocas\",1000000,9500),\n",
    "        (\"Cristini\",30000,5500),\n",
    "        (\"AuronPlay\",6000,58)\n",
    "    ]\n",
    "    #insertRows(streamers)\n",
    "    #readRows(\"subs\")\n",
    "    #search()\n",
    "    #UpdateFields()\n",
    "    deleteRow()\n"
   ]
  }
 ],
 "metadata": {
  "kernelspec": {
   "display_name": "Python 3.10.7 64-bit",
   "language": "python",
   "name": "python3"
  },
  "language_info": {
   "codemirror_mode": {
    "name": "ipython",
    "version": 3
   },
   "file_extension": ".py",
   "mimetype": "text/x-python",
   "name": "python",
   "nbconvert_exporter": "python",
   "pygments_lexer": "ipython3",
   "version": "3.10.7"
  },
  "orig_nbformat": 4,
  "vscode": {
   "interpreter": {
    "hash": "c63d8c7d738c2960218a10995aedf0a7f67a49a231e71037adf0440953cdb45b"
   }
  }
 },
 "nbformat": 4,
 "nbformat_minor": 2
}
