{
 "cells": [
  {
   "cell_type": "code",
   "execution_count": 4,
   "metadata": {},
   "outputs": [
    {
     "name": "stdout",
     "output_type": "stream",
     "text": [
      "El valor es 4\n"
     ]
    }
   ],
   "source": [
    "valor=4\n",
    "if valor==1:\n",
    "    print(\"El valor es 1\")\n",
    "elif valor==2:\n",
    "    print(\"El valor es 2\")\n",
    "elif valor==4:\n",
    "    print(\"El valor es 4\")\n"
   ]
  },
  {
   "cell_type": "code",
   "execution_count": 5,
   "metadata": {},
   "outputs": [
    {
     "name": "stdout",
     "output_type": "stream",
     "text": [
      "El valor es 4\n"
     ]
    }
   ],
   "source": [
    "valor=4\n",
    "match valor:\n",
    "    case 1:\n",
    "        print(\"El valor es 1\")\n",
    "    case 2:\n",
    "        print(\"El valor es 2\")\n",
    "    case 3:\n",
    "        print(\"El valor es 3\")\n",
    "    case 4:\n",
    "        print(\"El valor es 4\")\n",
    "\n"
   ]
  },
  {
   "cell_type": "code",
   "execution_count": 9,
   "metadata": {},
   "outputs": [
    {
     "name": "stdout",
     "output_type": "stream",
     "text": [
      "Hola,Jpgue\n"
     ]
    }
   ],
   "source": [
    "def mifuncion(nombre):\n",
    "    print(f\"Hola,{nombre}\")\n",
    "\n",
    "mifuncion(\"Jpgue\")"
   ]
  },
  {
   "cell_type": "code",
   "execution_count": 17,
   "metadata": {},
   "outputs": [
    {
     "name": "stdout",
     "output_type": "stream",
     "text": [
      "14\n",
      "-2\n",
      "0.75\n"
     ]
    }
   ],
   "source": [
    "def operaciones(a,b):\n",
    "    return a+b,a-b,a*b,a/b\n",
    "suma,resta,multi,divi=operaciones(6,8)\n",
    "print(suma)\n",
    "print(resta)\n",
    "print(divi)"
   ]
  },
  {
   "cell_type": "code",
   "execution_count": 15,
   "metadata": {},
   "outputs": [
    {
     "name": "stdout",
     "output_type": "stream",
     "text": [
      "Hola,lore\n"
     ]
    }
   ],
   "source": [
    "def mifuncion2(nombre):\n",
    "    return f\"Hola,{nombre}\"\n",
    "resultado=mifuncion2(\"lore\")\n",
    "print(resultado)"
   ]
  },
  {
   "cell_type": "code",
   "execution_count": 11,
   "metadata": {},
   "outputs": [
    {
     "name": "stdout",
     "output_type": "stream",
     "text": [
      "18\n"
     ]
    }
   ],
   "source": [
    "##lista\n",
    "def suma (*args):\n",
    "    resultado=0\n",
    "\n",
    "    for arg in args:\n",
    "        resultado +=arg\n",
    "    \n",
    "    print(resultado)\n",
    "suma(9,9)"
   ]
  },
  {
   "cell_type": "code",
   "execution_count": 12,
   "metadata": {},
   "outputs": [
    {
     "name": "stdout",
     "output_type": "stream",
     "text": [
      "{'vivienda': 'casa', 'coche': 'rojo'}\n"
     ]
    }
   ],
   "source": [
    "#DIccionarios\n",
    "\n",
    "def suma (**kwargs):\n",
    "    print(kwargs)\n",
    "\n",
    "suma(vivienda=\"casa\",coche=\"rojo\")"
   ]
  },
  {
   "cell_type": "code",
   "execution_count": 13,
   "metadata": {},
   "outputs": [
    {
     "name": "stdout",
     "output_type": "stream",
     "text": [
      "vivienda= casa\n",
      "coche= rojo\n"
     ]
    }
   ],
   "source": [
    "#diccionarios\n",
    "\n",
    "def suma (**kwargs):\n",
    "    for key,value in kwargs.items():\n",
    "\n",
    "        print(f\"{key}= {value}\")\n",
    "\n",
    "suma(vivienda=\"casa\",coche=\"rojo\")\n",
    "\n"
   ]
  }
 ],
 "metadata": {
  "kernelspec": {
   "display_name": "Python 3.10.7 64-bit",
   "language": "python",
   "name": "python3"
  },
  "language_info": {
   "codemirror_mode": {
    "name": "ipython",
    "version": 3
   },
   "file_extension": ".py",
   "mimetype": "text/x-python",
   "name": "python",
   "nbconvert_exporter": "python",
   "pygments_lexer": "ipython3",
   "version": "3.10.7"
  },
  "orig_nbformat": 4,
  "vscode": {
   "interpreter": {
    "hash": "c63d8c7d738c2960218a10995aedf0a7f67a49a231e71037adf0440953cdb45b"
   }
  }
 },
 "nbformat": 4,
 "nbformat_minor": 2
}
