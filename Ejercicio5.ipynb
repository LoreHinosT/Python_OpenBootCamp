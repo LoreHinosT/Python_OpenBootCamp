{
 "cells": [
  {
   "cell_type": "markdown",
   "metadata": {},
   "source": [
    "Escribe una funcion que pueda decirte si un año (numero entero) es bisiesto o no"
   ]
  },
  {
   "cell_type": "code",
   "execution_count": null,
   "metadata": {},
   "outputs": [],
   "source": [
    "def añoBisiesto():\n",
    "    año=int(input(\"Ingrese un año\"))\n",
    "    if año%4==0:\n",
    "        print(f\"El año\"{año}\"es un año bisiesto\")"
   ]
  }
 ],
 "metadata": {
  "language_info": {
   "name": "python"
  },
  "orig_nbformat": 4
 },
 "nbformat": 4,
 "nbformat_minor": 2
}
